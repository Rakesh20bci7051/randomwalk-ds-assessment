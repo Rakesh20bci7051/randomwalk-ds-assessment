{
  "nbformat": 4,
  "nbformat_minor": 0,
  "metadata": {
    "colab": {
      "provenance": [],
      "mount_file_id": "1qaETD5WpyA43JpL_4_lWGbBZtwwb496i",
      "authorship_tag": "ABX9TyNzLnspjrMQXhWMRB/JhqY0",
      "include_colab_link": true
    },
    "kernelspec": {
      "name": "python3",
      "display_name": "Python 3"
    },
    "language_info": {
      "name": "python"
    }
  },
  "cells": [
    {
      "cell_type": "markdown",
      "metadata": {
        "id": "view-in-github",
        "colab_type": "text"
      },
      "source": [
        "<a href=\"https://colab.research.google.com/github/Rakesh20bci7051/randomwalk-ds-assessment/blob/main/Assignment.ipynb\" target=\"_parent\"><img src=\"https://colab.research.google.com/assets/colab-badge.svg\" alt=\"Open In Colab\"/></a>"
      ]
    },
    {
      "cell_type": "code",
      "execution_count": 3,
      "metadata": {
        "id": "xW9Wa0_gleNs"
      },
      "outputs": [],
      "source": [
        "#importing the required libararies\n",
        "import numpy as np\n",
        "import pandas as pd\n",
        "import matplotlib.pyplot as plt\n"
      ]
    },
    {
      "cell_type": "markdown",
      "source": [
        "**Q1: How many rows and columns are there in books.csv dataset?**"
      ],
      "metadata": {
        "id": "Mw8oaYG2qQIZ"
      }
    },
    {
      "cell_type": "code",
      "source": [
        "#import the data\n",
        "dataframe=pd.read_csv('/content/drive/MyDrive/books.csv' ,encoding='latin-1')\n",
        "#display the number of rows and columns\n",
        "print(\"Number of rows:\",dataframe.shape[0])\n",
        "print(\"Number of columns:\",dataframe.shape[1])\n"
      ],
      "metadata": {
        "colab": {
          "base_uri": "https://localhost:8080/"
        },
        "id": "1udw8sxzqGKx",
        "outputId": "fab32fbb-53a8-4270-8f83-2652af11ed07"
      },
      "execution_count": 6,
      "outputs": [
        {
          "output_type": "stream",
          "name": "stdout",
          "text": [
            "Number of rows: 399\n",
            "Number of columns: 24\n"
          ]
        }
      ]
    },
    {
      "cell_type": "markdown",
      "source": [
        "**  Q2.How many books do not have an original title?**"
      ],
      "metadata": {
        "id": "Df8WYT_Grtr3"
      }
    },
    {
      "cell_type": "code",
      "source": [
        "#The number of book without original title\n",
        "bwt=dataframe[dataframe['original_title'].isnull()].shape[0]\n",
        "print('The books without original title are:',bwt)"
      ],
      "metadata": {
        "colab": {
          "base_uri": "https://localhost:8080/"
        },
        "id": "HHt4N2nkrsoO",
        "outputId": "febbe1ee-0b59-42be-a789-bf379a083a9a"
      },
      "execution_count": 7,
      "outputs": [
        {
          "output_type": "stream",
          "name": "stdout",
          "text": [
            "The books without original title are: 36\n"
          ]
        }
      ]
    },
    {
      "cell_type": "markdown",
      "source": [
        "Q3: How many unique books are present in the dataset ? Evaluate based on the 'book_id' after removing null values in the original_title column."
      ],
      "metadata": {
        "id": "-G-U-9CfsuOl"
      }
    },
    {
      "cell_type": "code",
      "source": [
        "#remove the null value from the original data set\n",
        "new_df=dataframe.dropna(subset=['original_title'])\n",
        "\n",
        "#number of unique books\n",
        "newvalue=new_df['book_id'].nunique()\n",
        "\n",
        "print(\"The number is:\",newvalue)"
      ],
      "metadata": {
        "id": "0bHfHyDIq_Cu",
        "colab": {
          "base_uri": "https://localhost:8080/"
        },
        "outputId": "e16b51ae-118f-4d09-d04d-74c079579f00"
      },
      "execution_count": 9,
      "outputs": [
        {
          "output_type": "stream",
          "name": "stdout",
          "text": [
            "The number is: 363\n"
          ]
        }
      ]
    },
    {
      "cell_type": "markdown",
      "source": [
        "Q4: What is the average rating of all the books in the dataset based on ‘average_rating’?"
      ],
      "metadata": {
        "id": "7GCNP8mEt4bI"
      }
    },
    {
      "cell_type": "code",
      "source": [
        "#find the mean\n",
        "average=dataframe['average_rating'].mean()\n",
        "average"
      ],
      "metadata": {
        "colab": {
          "base_uri": "https://localhost:8080/"
        },
        "id": "yh0upMWdto-5",
        "outputId": "12170467-82d0-4495-b109-7fa75c99b4ba"
      },
      "execution_count": 11,
      "outputs": [
        {
          "output_type": "execute_result",
          "data": {
            "text/plain": [
              "3.9837844611528817"
            ]
          },
          "metadata": {},
          "execution_count": 11
        }
      ]
    },
    {
      "cell_type": "markdown",
      "source": [
        "Q5: Find the number of books published in the year ‘2000’ based on the ‘original_publication_year’."
      ],
      "metadata": {
        "id": "Ey3esriEum1o"
      }
    },
    {
      "cell_type": "code",
      "source": [
        "year_2000=dataframe[dataframe['original_publication_year']==2000].shape[0]\n",
        "year_2000"
      ],
      "metadata": {
        "colab": {
          "base_uri": "https://localhost:8080/"
        },
        "id": "-vdemPGYumRa",
        "outputId": "9bf81fce-af0e-4a0d-d575-a901a680ca28"
      },
      "execution_count": 13,
      "outputs": [
        {
          "output_type": "execute_result",
          "data": {
            "text/plain": [
              "8"
            ]
          },
          "metadata": {},
          "execution_count": 13
        }
      ]
    },
    {
      "cell_type": "markdown",
      "source": [
        "Q6: Which book (title) has the maximum number of ratings based on ‘work_ratings_count’."
      ],
      "metadata": {
        "id": "BN3C7EJHvGMe"
      }
    },
    {
      "cell_type": "code",
      "source": [
        "max_rating=dataframe.loc[dataframe['work_ratings_count'].idxmax()]['title']\n",
        "max_rating"
      ],
      "metadata": {
        "colab": {
          "base_uri": "https://localhost:8080/",
          "height": 35
        },
        "id": "nc2FReDMudRt",
        "outputId": "079d57fb-6db8-4b92-8be7-646938cffd96"
      },
      "execution_count": 14,
      "outputs": [
        {
          "output_type": "execute_result",
          "data": {
            "text/plain": [
              "'The Diary of a Young Girl'"
            ],
            "application/vnd.google.colaboratory.intrinsic+json": {
              "type": "string"
            }
          },
          "metadata": {},
          "execution_count": 14
        }
      ]
    },
    {
      "cell_type": "markdown",
      "source": [
        "Q7: Bucket the average_rating of books into 11 buckets [0, 0.5, 1.0, 1.5, 2.0, 2.5, 3.0, 3.5, 4.0, 4.5, 5.0] with 0.5 decimal rounding (eg: average_rating 3.0 to 3.49 will fall in bucket 3.0). Plot bar graph to show total number of books in each rating bucket."
      ],
      "metadata": {
        "id": "67hu0EnGvuR3"
      }
    },
    {
      "cell_type": "code",
      "source": [
        "bins=[0, 0.5, 1.0, 1.5, 2.0, 2.5, 3.0, 3.5, 4.0, 4.5, 5.0]\n",
        "#Bucket the average rating into bins\n",
        "dataframe['rating_bucket']=pd.cut(dataframe['average_rating'],bins,right=False)\n",
        "#Grouping\n",
        "rating_counts=dataframe['rating_bucket'].value_counts().sort_index()\n",
        "\n",
        "#plot the graph\n",
        "plt.bar(rating_counts.index.astype(str),rating_counts.values,color='blue')\n",
        "plt.xlabel('Bucket Rating')\n",
        "plt.ylabel('Number of Books')\n",
        "plt.title(\"Number of Books in each Rating \")\n",
        "plt.show()"
      ],
      "metadata": {
        "colab": {
          "base_uri": "https://localhost:8080/",
          "height": 472
        },
        "id": "qfGsrYMhvkEc",
        "outputId": "22ac0f4c-c367-46e0-a835-a743af7a1c73"
      },
      "execution_count": 15,
      "outputs": [
        {
          "output_type": "display_data",
          "data": {
            "text/plain": [
              "<Figure size 640x480 with 1 Axes>"
            ],
            "image/png": "[encoded data removed]"
          },
          "metadata": {}
        }
      ]
    },
    {
      "cell_type": "code",
      "source": [],
      "metadata": {
        "id": "FKV90h2-xemq"
      },
      "execution_count": null,
      "outputs": []
    }
  ]
}